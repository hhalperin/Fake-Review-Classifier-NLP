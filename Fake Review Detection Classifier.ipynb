{
 "cells": [
  {
   "cell_type": "markdown",
   "id": "d0602a12",
   "metadata": {},
   "source": [
    "## Fake Review Detection Classifier"
   ]
  },
  {
   "cell_type": "markdown",
   "id": "77843320",
   "metadata": {},
   "source": [
    "#### Install Dependencies"
   ]
  },
  {
   "cell_type": "code",
   "execution_count": 2,
   "id": "8816c521",
   "metadata": {},
   "outputs": [
    {
     "name": "stdout",
     "output_type": "stream",
     "text": [
      "Requirement already satisfied: langdetect in /Library/Frameworks/Python.framework/Versions/3.11/lib/python3.11/site-packages (1.0.9)\n",
      "Requirement already satisfied: syllables in /Library/Frameworks/Python.framework/Versions/3.11/lib/python3.11/site-packages (1.0.7)\n",
      "\u001b[31mERROR: Could not find a version that satisfies the requirement csv (from versions: none)\u001b[0m\u001b[31m\n",
      "\u001b[0m\u001b[31mERROR: No matching distribution found for csv\u001b[0m\u001b[31m\n",
      "\u001b[0m\n",
      "\u001b[1m[\u001b[0m\u001b[34;49mnotice\u001b[0m\u001b[1;39;49m]\u001b[0m\u001b[39;49m A new release of pip is available: \u001b[0m\u001b[31;49m23.1.2\u001b[0m\u001b[39;49m -> \u001b[0m\u001b[32;49m23.2.1\u001b[0m\n",
      "\u001b[1m[\u001b[0m\u001b[34;49mnotice\u001b[0m\u001b[1;39;49m]\u001b[0m\u001b[39;49m To update, run: \u001b[0m\u001b[32;49mpip install --upgrade pip\u001b[0m\n",
      "Note: you may need to restart the kernel to use updated packages.\n"
     ]
    }
   ],
   "source": [
    "pip install langdetect syllables csv json requests nltk joblib matplotlib warnings numpy sklearn textblob tqdm"
   ]
  },
  {
   "cell_type": "markdown",
   "id": "1e8617bb",
   "metadata": {},
   "source": [
    "#### Import Dependencies & NLTK Downloads"
   ]
  },
  {
   "cell_type": "code",
   "execution_count": null,
   "id": "7bf5c322",
   "metadata": {},
   "outputs": [],
   "source": [
    "import langdetect, syllables, csv, json, requests, nltk, joblib, matplotlib.pyplot as plt, warnings, numpy as np, sklearn.metrics, sklearn.model_selection, sklearn.feature_extraction.text, sklearn.neighbors, sklearn.neural_network, sklearn.tree\n",
    "from textblob import TextBlob\n",
    "from nltk.corpus import stopwords\n",
    "from nltk.tokenize import word_tokenize\n",
    "from tqdm import tqdm\n",
    "\n",
    "nltk.download('popular', quiet = True)\n",
    "nltk.download(\"averaged_perceptron_tagger\", quiet = True)"
   ]
  },
  {
   "cell_type": "markdown",
   "id": "d4a4c672",
   "metadata": {},
   "source": [
    "#### Main Script"
   ]
  },
  {
   "cell_type": "code",
   "execution_count": 4,
   "id": "fd354aa9",
   "metadata": {},
   "outputs": [
    {
     "name": "stdout",
     "output_type": "stream",
     "text": [
      "Loading Data:\n"
     ]
    },
    {
     "name": "stderr",
     "output_type": "stream",
     "text": [
      "100%|███████████████████████████████████| 40432/40432 [00:12<00:00, 3341.12it/s]\n"
     ]
    },
    {
     "name": "stdout",
     "output_type": "stream",
     "text": [
      "\n",
      "Model Accuracy:\n",
      "Decision Tree Accuracy: 0.7184408389394539\n",
      "KNN Accuracy: 0.6717451523545707\n",
      "Neural Network Accuracy: 0.8593193510091017\n",
      "\n",
      "Neural Network Classification Report\n",
      "              precision    recall  f1-score   support\n",
      "\n",
      " Fake Review       0.85      0.87      0.86      5051\n",
      " Real Review       0.87      0.85      0.86      5057\n",
      "\n",
      "    accuracy                           0.86     10108\n",
      "   macro avg       0.86      0.86      0.86     10108\n",
      "weighted avg       0.86      0.86      0.86     10108\n",
      "\n",
      "Neural Network Confusion Matrix\n"
     ]
    },
    {
     "data": {
      "image/png": "[encoded data removed]",
      "text/plain": [
       "<Figure size 640x480 with 2 Axes>"
      ]
     },
     "metadata": {},
     "output_type": "display_data"
    }
   ],
   "source": [
    "def linguistics_analysis(blob):\n",
    "    \"\"\"This function receives a TextBlob object and returns its subjectivity and polarity.\"\"\"\n",
    "    subjectivity = blob.subjectivity\n",
    "    polarity = blob.polarity\n",
    "\n",
    "    return subjectivity, polarity\n",
    "\n",
    "def load_data():\n",
    "    \"\"\"This function loads data from a CSV file called \"fake_reviews_dataset.csv\". It returns the text reviews, labels, and the subjectivity and polarity of the reviews as separate lists.\"\"\"\n",
    "    text = []\n",
    "    y = []\n",
    "    subjectivities = []\n",
    "    polarities = []\n",
    "\n",
    "    try:\n",
    "        with open(\"fake_reviews_dataset.csv\", \"r\") as file:\n",
    "            reader = csv.reader(file)\n",
    "            next(reader)\n",
    "            for row in tqdm(reader, total = 40432):\n",
    "                label = row[2]\n",
    "                review_text = row[3]\n",
    "\n",
    "                # Mapping the label values to binary labels (0 for fake and 1 for real)\n",
    "                if label == \"OR\":\n",
    "                    label = 1\n",
    "                else:\n",
    "                    label = 0\n",
    "\n",
    "                # Adding the review text and label to their respective lists\n",
    "                text.append(review_text)\n",
    "                y.append(label)\n",
    "\n",
    "                # Analyzing the linguistic features of the review\n",
    "                blob = TextBlob(review_text)\n",
    "                subjectivity, polarity = linguistics_analysis(blob)\n",
    "\n",
    "                # Adding the subjectivity and polarity values to their respective lists\n",
    "                subjectivities.append(subjectivity)\n",
    "                polarities.append(polarity)\n",
    "\n",
    "        # Storing the subjectivity and polarity values in a separate list\n",
    "        reviews_analysis = [subjectivities, polarities]\n",
    "        return text, y, reviews_analysis\n",
    "\n",
    "    except FileNotFoundError:\n",
    "        print(\"Error, CSV file does not exist.\")\n",
    "    except Exception as e:\n",
    "        print(\"Error, unable to load CSV file.\")\n",
    "        return None, None, None\n",
    "\n",
    "def run_model(clf, x, y, model_name):\n",
    "    \"\"\"This function trains a classifier model on the input data and returns a dictionary with the details of the model.\"\"\"\n",
    "    # Splitting the data into training and testing sets\n",
    "    x_train, x_test, y_train, y_test = sklearn.model_selection.train_test_split(x, y, test_size = .25)\n",
    "    \n",
    "    # Fitting the classifier model to the training data\n",
    "    clf = clf.fit(x_train, y_train)\n",
    "\n",
    "    # Making predictions on the test data\n",
    "    predictions = clf.predict(x_test)\n",
    "\n",
    "    # Calculating and print accuracy score of the model\n",
    "    accuracy = sklearn.metrics.accuracy_score(y_test, predictions)\n",
    "    print(f\"{model_name} Accuracy: {accuracy}\")\n",
    "    \n",
    "   # Storing the model details in a dictionary for predicting highest accuracy\n",
    "    model_data = dict(model_name = model_name, clf = clf, x_test = x_test, y_test = y_test, accuracy = accuracy)\n",
    "\n",
    "    # Saving the trained model to disk\n",
    "    joblib.dump(clf, f\"{model_name}.joblib\")\n",
    "\n",
    "    return model_data\n",
    "\n",
    "def print_best_model(model_data):\n",
    "    \"\"\"This function takes in a list of model data and prints the details of the model with the highest accuracy.\"\"\"\n",
    "    highest_accuracy = 0\n",
    "    best_model = None\n",
    "\n",
    "    # Finding the model with the highest accuracy score\n",
    "    for model in model_data:\n",
    "        if model[\"accuracy\"] > highest_accuracy:\n",
    "            highest_accuracy = model[\"accuracy\"]\n",
    "            best_model = model\n",
    "\n",
    "    # Extracting the details of the best model\n",
    "    model_name = best_model[\"model_name\"]\n",
    "    clf = best_model[\"clf\"]\n",
    "    x_test = best_model[\"x_test\"]\n",
    "    y_test = best_model[\"y_test\"]\n",
    "    predictions = clf.predict(x_test)\n",
    "\n",
    "    # Displaying the classification report and confusion matrix of the best model\n",
    "    print(\"\")\n",
    "    print(f\"{model_name} Classification Report\")\n",
    "    print(sklearn.metrics.classification_report(y_test, predictions, target_names = [\"Fake Review\", \"Real Review\"]))\n",
    "\n",
    "    print(f\"{model_name} Confusion Matrix\")\n",
    "    cm = sklearn.metrics.confusion_matrix(y_test, predictions)\n",
    "    disp = sklearn.metrics.ConfusionMatrixDisplay(cm, display_labels = [\"Fake Review\", \"Real Review\"])\n",
    "    disp.plot()\n",
    "    plt.show()\n",
    "\n",
    "def main():\n",
    "    \"\"\"This script loads and processes data from \"fake_reviews_dataset.csv\", trains three ML models to classify reviews as fake/real using \"linguistics_analysis\", \"load_data\", \"run_model\", and \"print_best_model\" functions. Libraries used include langdetect, nltk, joblib, matplotlib, and sklearn.\"\"\"\n",
    "    print(\"Loading Data:\")\n",
    "    text, y, reviews_analysis = load_data()\n",
    "\n",
    "    # Vectorizing the text reviews using CountVectorizer and combining them with the linguistic features\n",
    "    vectorizer = sklearn.feature_extraction.text.CountVectorizer(stop_words=stopwords.words(\"english\"), max_features=1000)\n",
    "    vectors = vectorizer.fit_transform(text)\n",
    "    x = vectors.toarray()\n",
    "\n",
    "    # Adding the linguistic features to the feature matrix\n",
    "    x_list = x.tolist()\n",
    "    for j, list_i in enumerate(x_list):\n",
    "        list_i.append(reviews_analysis[0][j])\n",
    "        list_i.append(reviews_analysis[1][j])\n",
    "        x_list[j] = list_i\n",
    "\n",
    "    x = np.array(x_list)\n",
    "\n",
    "    # Training the machine learning models and selecting the best model\n",
    "    print(\"\")\n",
    "    print(\"Model Accuracy:\")\n",
    "    model_data = [\n",
    "        run_model(sklearn.tree.DecisionTreeClassifier(), x, y, \"Decision Tree\"),\n",
    "        run_model(sklearn.neighbors.KNeighborsClassifier(201), x, y, \"KNN\"),\n",
    "        run_model(sklearn.neural_network.MLPClassifier(), x, y, \"Neural Network\")\n",
    "    ]\n",
    "\n",
    "    print_best_model(model_data)\n",
    "\n",
    "if __name__ == \"__main__\":\n",
    "    main()\n",
    "    "
   ]
  }
 ],
 "metadata": {
  "kernelspec": {
   "display_name": "Python 3 (ipykernel)",
   "language": "python",
   "name": "python3"
  },
  "language_info": {
   "codemirror_mode": {
    "name": "ipython",
    "version": 3
   },
   "file_extension": ".py",
   "mimetype": "text/x-python",
   "name": "python",
   "nbconvert_exporter": "python",
   "pygments_lexer": "ipython3",
   "version": "3.11.2"
  }
 },
 "nbformat": 4,
 "nbformat_minor": 5
}
